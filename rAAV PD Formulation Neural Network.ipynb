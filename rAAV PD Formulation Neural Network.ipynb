{
 "cells": [
  {
   "cell_type": "markdown",
   "id": "21236607",
   "metadata": {},
   "source": [
    "# Predicting Lethality of rAAV Drug Formulations using Neural Networks"
   ]
  },
  {
   "cell_type": "markdown",
   "id": "af7990ac",
   "metadata": {},
   "source": [
    "#### By Emmitt Tucker "
   ]
  },
  {
   "cell_type": "markdown",
   "id": "585fe2bb",
   "metadata": {},
   "source": [
    "## Introduction"
   ]
  },
  {
   "cell_type": "markdown",
   "id": "a4b56d9c",
   "metadata": {},
   "source": [
    "Recombinant adeno-associated virus (rAAV) drug formulation is a time-consuming and expertise-intensive task, involving years of research and experimentation. The traditional approach of running experiments to test every formulation condition to determine lethality can be resource-intensive, expensive, and impractical. As a potential solution, this proof of concept project explores the use of artificial neural networks to predict the lethality of different rAAV drug formulations, streamlining the formulation optimization process.<br>\n",
    "<br>\n",
    "To make this project more approachable for researchers with limited experience in AI, machine learning, and coding, we have received invaluable assistance from ChatGPT, an AI language model. ChatGPT's collaboration has facilitated the generation of key content, including this introduction, data pre-processing, model evaluation, and neural network architecture sections.<br>\n",
    "<br>\n",
    "Moreover, this project embraces the spirit of citizen science, enabling amateur scientists and enthusiasts to actively contribute to scientific research. By leveraging AI-driven methodologies, non-experts can participate in drug formulation development and contribute to advancements in biopharmaceuticals and gene therapy."
   ]
  },
  {
   "cell_type": "markdown",
   "id": "221de758",
   "metadata": {},
   "source": [
    "### Disclaimer!"
   ]
  },
  {
   "cell_type": "markdown",
   "id": "5fa136de",
   "metadata": {},
   "source": [
    "This is meant for proof of concept purposes only and is not meant to be directly used in research projects until fit for the purpose of the user. "
   ]
  },
  {
   "cell_type": "markdown",
   "id": "11e0f7b3",
   "metadata": {},
   "source": [
    "## Data Pre-Processing"
   ]
  },
  {
   "cell_type": "markdown",
   "id": "e586ccb0",
   "metadata": {},
   "source": [
    "Data preprocessing is a crucial step in preparing the dataset for training the neural network model. In this project, the provided dataset contains a combination of numerical and categorical variables related to rAAV drug formulations. The data preprocessing steps involve handling missing values, encoding categorical variables, and normalizing numerical variables to ensure the neural network can effectively learn from the data."
   ]
  },
  {
   "cell_type": "markdown",
   "id": "46831a81",
   "metadata": {},
   "source": [
    "### Handling Missing Values "
   ]
  },
  {
   "cell_type": "markdown",
   "id": "2b94e181",
   "metadata": {},
   "source": [
    "Missing values can adversely affect the performance of the neural network model. Before proceeding with any further steps, it is essential to identify and handle missing data appropriately. In this project, we employed techniques such as mean imputation or median imputation to fill missing numerical values and mode imputation to fill missing categorical values. This ensures that the dataset is complete and ready for training. For the synthetic data initially used in this project, no values were missing."
   ]
  },
  {
   "cell_type": "markdown",
   "id": "d0fab0b3",
   "metadata": {},
   "source": [
    "### Encoding Categorical Variables "
   ]
  },
  {
   "cell_type": "markdown",
   "id": "9e22d42c",
   "metadata": {},
   "source": [
    "Neural networks require numerical input, and categorical variables need to be encoded to facilitate training. In this project, we used the LabelEncoder from the scikit-learn library to convert categorical variables, such as Cryoprotectant_Type, Lypoprotectant_Type, Buffer_Type, BulkingAgent_Type, Preservative_Type, and Lethality, into numerical values. Each unique category is assigned a unique integer, allowing the neural network to process categorical information effectively."
   ]
  },
  {
   "cell_type": "markdown",
   "id": "eb2b9968",
   "metadata": {},
   "source": [
    "### Normalizing Numerical Variables "
   ]
  },
  {
   "cell_type": "markdown",
   "id": "936cd01b",
   "metadata": {},
   "source": [
    "Since the numerical variables in the dataset have different scales, normalization is essential to prevent certain features from dominating the learning process during training. We utilized the StandardScaler from scikit-learn to scale the numerical variables (Vector_Concentration, Cryoprotectant_Concentration, Lypoprotectant_Concentration, Buffer_pH, Buffer_Concentration, and Preservative_Concentration). Normalization transforms each feature to have zero mean and unit variance, ensuring a consistent scale across all numerical variables."
   ]
  },
  {
   "cell_type": "markdown",
   "id": "1373d195",
   "metadata": {},
   "source": [
    "### Splitting Data Into Training and Test Sets "
   ]
  },
  {
   "cell_type": "markdown",
   "id": "58617abc",
   "metadata": {},
   "source": [
    "Before feeding the data into the neural network, it is essential to split it into training and testing sets. The dataset is divided into two parts: the training set and the testing set. The training set is used to train the neural network, while the testing set is used to evaluate its performance on unseen data. In this project, an 80-20 split was employed, with 80% of the data used for training and 20% for testing."
   ]
  },
  {
   "cell_type": "markdown",
   "id": "1b4e2db0",
   "metadata": {},
   "source": [
    "### Limitations and Considerations "
   ]
  },
  {
   "cell_type": "markdown",
   "id": "2bbe1537",
   "metadata": {},
   "source": [
    "It is crucial to acknowledge certain limitations and considerations in the data preprocessing phase. The use of imputation techniques to handle missing values assumes that the imputed values adequately represent the true values, which may not always be the case. In some scenarios, the presence of missing data may require more sophisticated imputation methods or careful handling based on domain knowledge. <br>\n",
    "<br>\n",
    "Additionally, encoding categorical variables using LabelEncoder assigns ordinal values, which could potentially introduce unintended relationships between categories. For nominal variables (without an inherent order), one-hot encoding or other categorical encoding methods may be more appropriate. <br>\n",
    "<br>\n",
    "In conclusion, data preprocessing is a critical step to ensure the dataset is appropriately prepared for neural network training. Proper handling of missing values, categorical encoding, and numerical normalization are essential for the successful implementation of the model. While this project makes efforts to address these preprocessing steps, further exploration and adaptation may be needed based on the specific characteristics and complexity of real-world data. <br>"
   ]
  },
  {
   "cell_type": "markdown",
   "id": "1ad95735",
   "metadata": {},
   "source": [
    "## Neural Network Architecture"
   ]
  },
  {
   "cell_type": "markdown",
   "id": "194a37af",
   "metadata": {},
   "source": [
    "The neural network architecture is the design of the \"brain\" of our model, where it learns from the data and makes predictions. We aim to create a simple yet effective neural network that can predict the lethality of rAAV drug formulations based on various input features."
   ]
  },
  {
   "cell_type": "markdown",
   "id": "2592a5ae",
   "metadata": {},
   "source": [
    "### Input Layer"
   ]
  },
  {
   "cell_type": "markdown",
   "id": "a7c2cb54",
   "metadata": {},
   "source": [
    "The neural network starts with an input layer, which is responsible for receiving the input data. In this project, the input layer has neurons corresponding to the number of features in our dataset, representing the formulation parameters (e.g., Vector_Concentration, Cryoprotectant_Concentration, Lypoprotectant_Concentration, Buffer_pH, Buffer_Concentration, and Preservative_Concentration). Each neuron takes one of these features as input."
   ]
  },
  {
   "cell_type": "markdown",
   "id": "5a9f1ce3",
   "metadata": {},
   "source": [
    "### Activation Function"
   ]
  },
  {
   "cell_type": "markdown",
   "id": "19e4c488",
   "metadata": {},
   "source": [
    "After the input layer, we use an activation function called ReLU (Rectified Linear Unit). ReLU introduces non-linearity to the model, which is crucial for enabling the neural network to learn complex patterns and make accurate predictions. When the input to a neuron is positive or zero, ReLU outputs the same value, but when the input is negative, ReLU outputs zero. This process allows the neural network to activate certain neurons while deactivating others based on the input data."
   ]
  },
  {
   "cell_type": "markdown",
   "id": "8a3e31ef",
   "metadata": {},
   "source": [
    "###  Dropout Layer"
   ]
  },
  {
   "cell_type": "markdown",
   "id": "9bca05e0",
   "metadata": {},
   "source": [
    "Next, we add a dropout layer after the first activation function. The dropout layer helps prevent overfitting, which occurs when the model becomes too specialized in the training data and does not generalize well to new, unseen data. During training, the dropout layer randomly deactivates (sets to zero) a fraction of neurons. This dropout forces the neural network to learn more robust features, reducing overreliance on specific neurons and improving generalization to new data."
   ]
  },
  {
   "cell_type": "markdown",
   "id": "9abad078",
   "metadata": {},
   "source": [
    "### Hidden Layer"
   ]
  },
  {
   "cell_type": "markdown",
   "id": "3364c9db",
   "metadata": {},
   "source": [
    "Following the dropout layer, we add another hidden layer with ReLU activation. This hidden layer is responsible for learning more complex relationships between the input features and their impact on lethality predictions. The number of neurons in this hidden layer is a hyperparameter, and in this project, we explore different configurations to find the optimal number through the random search."
   ]
  },
  {
   "cell_type": "markdown",
   "id": "5a556f13",
   "metadata": {},
   "source": [
    "### Output Layer "
   ]
  },
  {
   "cell_type": "markdown",
   "id": "83ac4a6b",
   "metadata": {},
   "source": [
    "Finally, we have the output layer, which produces the final prediction. Since we are performing binary classification (predicting lethality or non-lethality), we use a single neuron in the output layer with a sigmoid activation function. The sigmoid function compresses the output between 0 and 1, representing the probability of the input belonging to the positive class (lethal) or negative class (non-lethal)."
   ]
  },
  {
   "cell_type": "markdown",
   "id": "43e64ca3",
   "metadata": {},
   "source": [
    "### Compilation and Optimization "
   ]
  },
  {
   "cell_type": "markdown",
   "id": "1e9bbb1b",
   "metadata": {},
   "source": [
    "Once the neural network architecture is defined, we compile the model with specific settings. We use the Adam optimizer, which is an efficient optimization algorithm, to adjust the model's parameters during training. The loss function chosen for this binary classification task is binary cross-entropy, which measures the difference between the predicted probabilities and the actual labels."
   ]
  },
  {
   "cell_type": "markdown",
   "id": "32491b8c",
   "metadata": {},
   "source": [
    "## Hyperparameter Tuning"
   ]
  },
  {
   "cell_type": "markdown",
   "id": "e4797b0d",
   "metadata": {},
   "source": [
    "Hyperparameter tuning is a critical process that allows us to optimize the neural network model for predicting rAAV drug formulation lethality. However, it can be a daunting task, especially for researchers with limited experience in machine learning and coding. To address this challenge, we adopt a user-friendly and automated approach to hyperparameter tuning. <br>\n",
    "<br>\n",
    "In this project, we utilize the random search method to explore various combinations of hyperparameters, such as the number of neurons in hidden layers, dropout rate, and learning rate. Random search efficiently samples different hyperparameter configurations, eliminating the need for researchers to manually fine-tune these settings.<br>\n",
    "<br>\n",
    "This automated hyperparameter tuning serves as a valuable aid for novice users, enabling them to focus on other critical aspects of research without becoming overwhelmed by intricate model optimization. Researchers with limited expertise in machine learning can now rapidly experiment with different configurations, efficiently exploring the hyperparameter space to identify the optimal neural network architecture for predicting lethality.<br>\n",
    "<br>\n",
    "By simplifying the process of model optimization, this approach empowers researchers from diverse backgrounds, including wetlab biologists, to delve into AI-driven solutions without the need for extensive ML knowledge. The random search method provides an accessible gateway for novice users to harness the power of neural networks effectively.<br>\n",
    "<br>\n",
    "Through this user-friendly hyperparameter tuning process, we demonstrate how AI, in the form of ChatGPT, collaborates with researchers to streamline model development. This collaborative effort enables researchers to focus on the formulation development itself, while ChatGPT helps optimize the neural network model, paving the way for faster and more efficient drug product development.<br>\n",
    "<br>\n",
    "In conclusion, the random search-based hyperparameter tuning method simplifies model optimization, making it accessible to researchers with limited experience in machine learning and coding. This approach exemplifies the potential of AI to support and empower researchers in diverse fields, enabling them to accelerate research, gain valuable insights, and contribute to scientific progress with AI-driven solutions."
   ]
  },
  {
   "cell_type": "markdown",
   "id": "7c498d78",
   "metadata": {},
   "source": [
    "## Model Evaluation "
   ]
  },
  {
   "cell_type": "markdown",
   "id": "3374483e",
   "metadata": {},
   "source": [
    "The neural network model's performance is a critical aspect of this project, as it determines the predictive capability in identifying lethal and non-lethal rAAV drug formulations. The model was trained on a synthetic dataset, which was not subjected to peer review or experimental validation. As such, it is essential to approach the model evaluation with a cautious perspective and recognize its limitations."
   ]
  },
  {
   "cell_type": "markdown",
   "id": "d6ececd8",
   "metadata": {},
   "source": [
    "### Evaluation Metrics"
   ]
  },
  {
   "cell_type": "markdown",
   "id": "978280fa",
   "metadata": {},
   "source": [
    "To assess the model's effectiveness, several evaluation metrics were utilized to gauge its performance on the test dataset. The primary evaluation metrics employed are:<br>\n",
    "<br>\n",
    "1) Accuracy: The proportion of correctly predicted outcomes (both lethal and non-lethal) over the total number of samples. While accuracy is a commonly used metric, it may not provide a comprehensive assessment when classes are imbalanced.<br>\n",
    "<br>\n",
    "2) Confusion Matrix: A confusion matrix helps visualize the true positive (TP), true negative (TN), false positive (FP), and false negative (FN) predictions made by the model. It provides insights into how well the model distinguishes between lethal and non-lethal formulations. <br>\n",
    "<br>\n",
    "3) Precision: Precision measures the proportion of true positive predictions (lethal formulations) over the total number of positive predictions. It helps understand the model's accuracy in identifying lethal formulations specifically. <br>\n",
    "<br>\n",
    "4) Recall (Sensitivity): Recall represents the proportion of true positive predictions over the total number of actual positive samples (lethal formulations). It reflects the model's ability to correctly identify lethal formulations. <br>\n",
    "<br>\n",
    "5) F1-Score: The F1-score is the harmonic mean of precision and recall, providing a balanced assessment of the model's overall performance."
   ]
  },
  {
   "cell_type": "markdown",
   "id": "571b9209",
   "metadata": {},
   "source": [
    "### Performance and Interpretation"
   ]
  },
  {
   "cell_type": "markdown",
   "id": "55fd2c36",
   "metadata": {},
   "source": [
    "Given that the model achieved an accuracy of approximately 54%, it is evident that there is room for improvement. However, the performance evaluation goes beyond just accuracy. The confusion matrix analysis reveals the trade-off between true positive and false positive predictions, which is particularly important when dealing with potential lethal formulations.<br>\n",
    "<br>\n",
    "Precision, recall, and F1-score complement the accuracy metric by offering a deeper understanding of the model's strengths and weaknesses. For instance, a high precision indicates the model's confidence in identifying lethal formulations correctly, while a high recall shows its ability to avoid missing actual lethal cases. Balancing these metrics is crucial to ensure the model's reliability in predicting potentially lethal drug formulations."
   ]
  },
  {
   "cell_type": "markdown",
   "id": "5ebc248e",
   "metadata": {},
   "source": [
    "## Conclusion"
   ]
  },
  {
   "cell_type": "markdown",
   "id": "bb211e53",
   "metadata": {},
   "source": [
    "In conclusion, this proof of concept exemplifies the transformative potential of AI-driven citizen science in drug formulation development. Assisted by ChatGPT, researchers with limited expertise have navigated complex AI-driven methodologies and demonstrated the capability of artificial neural networks in predicting the lethality of rAAV drug formulations.<br>\n",
    "<br>\n",
    "While the current accuracy of approximately 54% serves as a starting point, further refinement and validation with real-world experimental data are essential for future improvements. The automated hyperparameter tuning demonstrated how AI can simplify model optimization, enabling researchers to focus on the formulation development itself.<br>\n",
    "<br>\n",
    "Through the collaboration of researchers and AI, this project highlights the collaborative potential of AI-driven citizen science. By democratizing access to AI technologies, we envision a future where non-experts actively contribute to scientific research, accelerating the pace of drug development and fostering collective intelligence.<br>\n",
    "<br>\n",
    "As a proof of concept, this project underscores the importance of validation with experimental data and peer review. Nonetheless, it showcases how AI can be harnessed as a powerful tool in citizen science, empowering researchers from diverse backgrounds to embark on AI-driven solutions and drive innovation in scientific discovery."
   ]
  },
  {
   "cell_type": "markdown",
   "id": "c253f0db",
   "metadata": {},
   "source": [
    "## Overall Code Process Summarized"
   ]
  },
  {
   "cell_type": "markdown",
   "id": "7c513205",
   "metadata": {},
   "source": [
    "1) Loads the data from the CSV file into a pandas DataFrame.<br>\n",
    "<br>\n",
    "2) Encodes categorical variables to numerical values using LabelEncoder.<br>\n",
    "<br>\n",
    "3) Splits the data into features (X) and the target variable (y).<br>\n",
    "<br>\n",
    "4) Normalizes the numerical variables using StandardScaler.<br>\n",
    "<br>\n",
    "5) Splits the data into training and testing sets using train_test_split.<br>\n",
    "<br>\n",
    "6) Defines a function create_model that constructs the neural network architecture, compiles it, and returns the model.<br>\n",
    "<br>\n",
    "7) Creates a KerasClassifier wrapper for the create_model function, allowing it to be used with scikit-learn utilities.<br>\n",
    "<br>\n",
    "8) Defines the hyperparameter search space for RandomizedSearchCV to explore different combinations of hyperparameters.<br>\n",
    "<br>\n",
    "9) Performs random search with cross-validation using RandomizedSearchCV to find the best model architecture and hyperparameters.<br>\n",
    "<br>\n",
    "10) Prints the best score (accuracy) and the corresponding best hyperparameters found during the search."
   ]
  },
  {
   "cell_type": "markdown",
   "id": "0bfad743",
   "metadata": {},
   "source": [
    "##  The Code"
   ]
  },
  {
   "cell_type": "code",
   "execution_count": 36,
   "id": "d15592ba",
   "metadata": {},
   "outputs": [
    {
     "name": "stdout",
     "output_type": "stream",
     "text": [
      "Fitting 3 folds for each of 10 candidates, totalling 30 fits\n"
     ]
    },
    {
     "name": "stderr",
     "output_type": "stream",
     "text": [
      "C:\\Users\\ejtuc\\anaconda3_1\\lib\\site-packages\\tensorflow\\python\\keras\\engine\\sequential.py:455: UserWarning: `model.predict_classes()` is deprecated and will be removed after 2021-01-01. Please use instead:* `np.argmax(model.predict(x), axis=-1)`,   if your model does multi-class classification   (e.g. if it uses a `softmax` last-layer activation).* `(model.predict(x) > 0.5).astype(\"int32\")`,   if your model does binary classification   (e.g. if it uses a `sigmoid` last-layer activation).\n",
      "  warnings.warn('`model.predict_classes()` is deprecated and '\n",
      "C:\\Users\\ejtuc\\anaconda3_1\\lib\\site-packages\\tensorflow\\python\\keras\\engine\\sequential.py:455: UserWarning: `model.predict_classes()` is deprecated and will be removed after 2021-01-01. Please use instead:* `np.argmax(model.predict(x), axis=-1)`,   if your model does multi-class classification   (e.g. if it uses a `softmax` last-layer activation).* `(model.predict(x) > 0.5).astype(\"int32\")`,   if your model does binary classification   (e.g. if it uses a `sigmoid` last-layer activation).\n",
      "  warnings.warn('`model.predict_classes()` is deprecated and '\n",
      "C:\\Users\\ejtuc\\anaconda3_1\\lib\\site-packages\\tensorflow\\python\\keras\\engine\\sequential.py:455: UserWarning: `model.predict_classes()` is deprecated and will be removed after 2021-01-01. Please use instead:* `np.argmax(model.predict(x), axis=-1)`,   if your model does multi-class classification   (e.g. if it uses a `softmax` last-layer activation).* `(model.predict(x) > 0.5).astype(\"int32\")`,   if your model does binary classification   (e.g. if it uses a `sigmoid` last-layer activation).\n",
      "  warnings.warn('`model.predict_classes()` is deprecated and '\n",
      "C:\\Users\\ejtuc\\anaconda3_1\\lib\\site-packages\\tensorflow\\python\\keras\\engine\\sequential.py:455: UserWarning: `model.predict_classes()` is deprecated and will be removed after 2021-01-01. Please use instead:* `np.argmax(model.predict(x), axis=-1)`,   if your model does multi-class classification   (e.g. if it uses a `softmax` last-layer activation).* `(model.predict(x) > 0.5).astype(\"int32\")`,   if your model does binary classification   (e.g. if it uses a `sigmoid` last-layer activation).\n",
      "  warnings.warn('`model.predict_classes()` is deprecated and '\n",
      "C:\\Users\\ejtuc\\anaconda3_1\\lib\\site-packages\\tensorflow\\python\\keras\\engine\\sequential.py:455: UserWarning: `model.predict_classes()` is deprecated and will be removed after 2021-01-01. Please use instead:* `np.argmax(model.predict(x), axis=-1)`,   if your model does multi-class classification   (e.g. if it uses a `softmax` last-layer activation).* `(model.predict(x) > 0.5).astype(\"int32\")`,   if your model does binary classification   (e.g. if it uses a `sigmoid` last-layer activation).\n",
      "  warnings.warn('`model.predict_classes()` is deprecated and '\n",
      "C:\\Users\\ejtuc\\anaconda3_1\\lib\\site-packages\\tensorflow\\python\\keras\\engine\\sequential.py:455: UserWarning: `model.predict_classes()` is deprecated and will be removed after 2021-01-01. Please use instead:* `np.argmax(model.predict(x), axis=-1)`,   if your model does multi-class classification   (e.g. if it uses a `softmax` last-layer activation).* `(model.predict(x) > 0.5).astype(\"int32\")`,   if your model does binary classification   (e.g. if it uses a `sigmoid` last-layer activation).\n",
      "  warnings.warn('`model.predict_classes()` is deprecated and '\n",
      "C:\\Users\\ejtuc\\anaconda3_1\\lib\\site-packages\\tensorflow\\python\\keras\\engine\\sequential.py:455: UserWarning: `model.predict_classes()` is deprecated and will be removed after 2021-01-01. Please use instead:* `np.argmax(model.predict(x), axis=-1)`,   if your model does multi-class classification   (e.g. if it uses a `softmax` last-layer activation).* `(model.predict(x) > 0.5).astype(\"int32\")`,   if your model does binary classification   (e.g. if it uses a `sigmoid` last-layer activation).\n",
      "  warnings.warn('`model.predict_classes()` is deprecated and '\n",
      "C:\\Users\\ejtuc\\anaconda3_1\\lib\\site-packages\\tensorflow\\python\\keras\\engine\\sequential.py:455: UserWarning: `model.predict_classes()` is deprecated and will be removed after 2021-01-01. Please use instead:* `np.argmax(model.predict(x), axis=-1)`,   if your model does multi-class classification   (e.g. if it uses a `softmax` last-layer activation).* `(model.predict(x) > 0.5).astype(\"int32\")`,   if your model does binary classification   (e.g. if it uses a `sigmoid` last-layer activation).\n",
      "  warnings.warn('`model.predict_classes()` is deprecated and '\n",
      "C:\\Users\\ejtuc\\anaconda3_1\\lib\\site-packages\\tensorflow\\python\\keras\\engine\\sequential.py:455: UserWarning: `model.predict_classes()` is deprecated and will be removed after 2021-01-01. Please use instead:* `np.argmax(model.predict(x), axis=-1)`,   if your model does multi-class classification   (e.g. if it uses a `softmax` last-layer activation).* `(model.predict(x) > 0.5).astype(\"int32\")`,   if your model does binary classification   (e.g. if it uses a `sigmoid` last-layer activation).\n",
      "  warnings.warn('`model.predict_classes()` is deprecated and '\n",
      "C:\\Users\\ejtuc\\anaconda3_1\\lib\\site-packages\\tensorflow\\python\\keras\\engine\\sequential.py:455: UserWarning: `model.predict_classes()` is deprecated and will be removed after 2021-01-01. Please use instead:* `np.argmax(model.predict(x), axis=-1)`,   if your model does multi-class classification   (e.g. if it uses a `softmax` last-layer activation).* `(model.predict(x) > 0.5).astype(\"int32\")`,   if your model does binary classification   (e.g. if it uses a `sigmoid` last-layer activation).\n",
      "  warnings.warn('`model.predict_classes()` is deprecated and '\n",
      "C:\\Users\\ejtuc\\anaconda3_1\\lib\\site-packages\\tensorflow\\python\\keras\\engine\\sequential.py:455: UserWarning: `model.predict_classes()` is deprecated and will be removed after 2021-01-01. Please use instead:* `np.argmax(model.predict(x), axis=-1)`,   if your model does multi-class classification   (e.g. if it uses a `softmax` last-layer activation).* `(model.predict(x) > 0.5).astype(\"int32\")`,   if your model does binary classification   (e.g. if it uses a `sigmoid` last-layer activation).\n",
      "  warnings.warn('`model.predict_classes()` is deprecated and '\n",
      "C:\\Users\\ejtuc\\anaconda3_1\\lib\\site-packages\\tensorflow\\python\\keras\\engine\\sequential.py:455: UserWarning: `model.predict_classes()` is deprecated and will be removed after 2021-01-01. Please use instead:* `np.argmax(model.predict(x), axis=-1)`,   if your model does multi-class classification   (e.g. if it uses a `softmax` last-layer activation).* `(model.predict(x) > 0.5).astype(\"int32\")`,   if your model does binary classification   (e.g. if it uses a `sigmoid` last-layer activation).\n",
      "  warnings.warn('`model.predict_classes()` is deprecated and '\n",
      "C:\\Users\\ejtuc\\anaconda3_1\\lib\\site-packages\\tensorflow\\python\\keras\\engine\\sequential.py:455: UserWarning: `model.predict_classes()` is deprecated and will be removed after 2021-01-01. Please use instead:* `np.argmax(model.predict(x), axis=-1)`,   if your model does multi-class classification   (e.g. if it uses a `softmax` last-layer activation).* `(model.predict(x) > 0.5).astype(\"int32\")`,   if your model does binary classification   (e.g. if it uses a `sigmoid` last-layer activation).\n",
      "  warnings.warn('`model.predict_classes()` is deprecated and '\n",
      "C:\\Users\\ejtuc\\anaconda3_1\\lib\\site-packages\\tensorflow\\python\\keras\\engine\\sequential.py:455: UserWarning: `model.predict_classes()` is deprecated and will be removed after 2021-01-01. Please use instead:* `np.argmax(model.predict(x), axis=-1)`,   if your model does multi-class classification   (e.g. if it uses a `softmax` last-layer activation).* `(model.predict(x) > 0.5).astype(\"int32\")`,   if your model does binary classification   (e.g. if it uses a `sigmoid` last-layer activation).\n",
      "  warnings.warn('`model.predict_classes()` is deprecated and '\n",
      "C:\\Users\\ejtuc\\anaconda3_1\\lib\\site-packages\\tensorflow\\python\\keras\\engine\\sequential.py:455: UserWarning: `model.predict_classes()` is deprecated and will be removed after 2021-01-01. Please use instead:* `np.argmax(model.predict(x), axis=-1)`,   if your model does multi-class classification   (e.g. if it uses a `softmax` last-layer activation).* `(model.predict(x) > 0.5).astype(\"int32\")`,   if your model does binary classification   (e.g. if it uses a `sigmoid` last-layer activation).\n",
      "  warnings.warn('`model.predict_classes()` is deprecated and '\n"
     ]
    },
    {
     "name": "stderr",
     "output_type": "stream",
     "text": [
      "C:\\Users\\ejtuc\\anaconda3_1\\lib\\site-packages\\tensorflow\\python\\keras\\engine\\sequential.py:455: UserWarning: `model.predict_classes()` is deprecated and will be removed after 2021-01-01. Please use instead:* `np.argmax(model.predict(x), axis=-1)`,   if your model does multi-class classification   (e.g. if it uses a `softmax` last-layer activation).* `(model.predict(x) > 0.5).astype(\"int32\")`,   if your model does binary classification   (e.g. if it uses a `sigmoid` last-layer activation).\n",
      "  warnings.warn('`model.predict_classes()` is deprecated and '\n",
      "C:\\Users\\ejtuc\\anaconda3_1\\lib\\site-packages\\tensorflow\\python\\keras\\engine\\sequential.py:455: UserWarning: `model.predict_classes()` is deprecated and will be removed after 2021-01-01. Please use instead:* `np.argmax(model.predict(x), axis=-1)`,   if your model does multi-class classification   (e.g. if it uses a `softmax` last-layer activation).* `(model.predict(x) > 0.5).astype(\"int32\")`,   if your model does binary classification   (e.g. if it uses a `sigmoid` last-layer activation).\n",
      "  warnings.warn('`model.predict_classes()` is deprecated and '\n",
      "C:\\Users\\ejtuc\\anaconda3_1\\lib\\site-packages\\tensorflow\\python\\keras\\engine\\sequential.py:455: UserWarning: `model.predict_classes()` is deprecated and will be removed after 2021-01-01. Please use instead:* `np.argmax(model.predict(x), axis=-1)`,   if your model does multi-class classification   (e.g. if it uses a `softmax` last-layer activation).* `(model.predict(x) > 0.5).astype(\"int32\")`,   if your model does binary classification   (e.g. if it uses a `sigmoid` last-layer activation).\n",
      "  warnings.warn('`model.predict_classes()` is deprecated and '\n",
      "C:\\Users\\ejtuc\\anaconda3_1\\lib\\site-packages\\tensorflow\\python\\keras\\engine\\sequential.py:455: UserWarning: `model.predict_classes()` is deprecated and will be removed after 2021-01-01. Please use instead:* `np.argmax(model.predict(x), axis=-1)`,   if your model does multi-class classification   (e.g. if it uses a `softmax` last-layer activation).* `(model.predict(x) > 0.5).astype(\"int32\")`,   if your model does binary classification   (e.g. if it uses a `sigmoid` last-layer activation).\n",
      "  warnings.warn('`model.predict_classes()` is deprecated and '\n",
      "C:\\Users\\ejtuc\\anaconda3_1\\lib\\site-packages\\tensorflow\\python\\keras\\engine\\sequential.py:455: UserWarning: `model.predict_classes()` is deprecated and will be removed after 2021-01-01. Please use instead:* `np.argmax(model.predict(x), axis=-1)`,   if your model does multi-class classification   (e.g. if it uses a `softmax` last-layer activation).* `(model.predict(x) > 0.5).astype(\"int32\")`,   if your model does binary classification   (e.g. if it uses a `sigmoid` last-layer activation).\n",
      "  warnings.warn('`model.predict_classes()` is deprecated and '\n",
      "C:\\Users\\ejtuc\\anaconda3_1\\lib\\site-packages\\tensorflow\\python\\keras\\engine\\sequential.py:455: UserWarning: `model.predict_classes()` is deprecated and will be removed after 2021-01-01. Please use instead:* `np.argmax(model.predict(x), axis=-1)`,   if your model does multi-class classification   (e.g. if it uses a `softmax` last-layer activation).* `(model.predict(x) > 0.5).astype(\"int32\")`,   if your model does binary classification   (e.g. if it uses a `sigmoid` last-layer activation).\n",
      "  warnings.warn('`model.predict_classes()` is deprecated and '\n",
      "C:\\Users\\ejtuc\\anaconda3_1\\lib\\site-packages\\tensorflow\\python\\keras\\engine\\sequential.py:455: UserWarning: `model.predict_classes()` is deprecated and will be removed after 2021-01-01. Please use instead:* `np.argmax(model.predict(x), axis=-1)`,   if your model does multi-class classification   (e.g. if it uses a `softmax` last-layer activation).* `(model.predict(x) > 0.5).astype(\"int32\")`,   if your model does binary classification   (e.g. if it uses a `sigmoid` last-layer activation).\n",
      "  warnings.warn('`model.predict_classes()` is deprecated and '\n",
      "C:\\Users\\ejtuc\\anaconda3_1\\lib\\site-packages\\tensorflow\\python\\keras\\engine\\sequential.py:455: UserWarning: `model.predict_classes()` is deprecated and will be removed after 2021-01-01. Please use instead:* `np.argmax(model.predict(x), axis=-1)`,   if your model does multi-class classification   (e.g. if it uses a `softmax` last-layer activation).* `(model.predict(x) > 0.5).astype(\"int32\")`,   if your model does binary classification   (e.g. if it uses a `sigmoid` last-layer activation).\n",
      "  warnings.warn('`model.predict_classes()` is deprecated and '\n",
      "C:\\Users\\ejtuc\\anaconda3_1\\lib\\site-packages\\tensorflow\\python\\keras\\engine\\sequential.py:455: UserWarning: `model.predict_classes()` is deprecated and will be removed after 2021-01-01. Please use instead:* `np.argmax(model.predict(x), axis=-1)`,   if your model does multi-class classification   (e.g. if it uses a `softmax` last-layer activation).* `(model.predict(x) > 0.5).astype(\"int32\")`,   if your model does binary classification   (e.g. if it uses a `sigmoid` last-layer activation).\n",
      "  warnings.warn('`model.predict_classes()` is deprecated and '\n",
      "C:\\Users\\ejtuc\\anaconda3_1\\lib\\site-packages\\tensorflow\\python\\keras\\engine\\sequential.py:455: UserWarning: `model.predict_classes()` is deprecated and will be removed after 2021-01-01. Please use instead:* `np.argmax(model.predict(x), axis=-1)`,   if your model does multi-class classification   (e.g. if it uses a `softmax` last-layer activation).* `(model.predict(x) > 0.5).astype(\"int32\")`,   if your model does binary classification   (e.g. if it uses a `sigmoid` last-layer activation).\n",
      "  warnings.warn('`model.predict_classes()` is deprecated and '\n",
      "C:\\Users\\ejtuc\\anaconda3_1\\lib\\site-packages\\tensorflow\\python\\keras\\engine\\sequential.py:455: UserWarning: `model.predict_classes()` is deprecated and will be removed after 2021-01-01. Please use instead:* `np.argmax(model.predict(x), axis=-1)`,   if your model does multi-class classification   (e.g. if it uses a `softmax` last-layer activation).* `(model.predict(x) > 0.5).astype(\"int32\")`,   if your model does binary classification   (e.g. if it uses a `sigmoid` last-layer activation).\n",
      "  warnings.warn('`model.predict_classes()` is deprecated and '\n",
      "C:\\Users\\ejtuc\\anaconda3_1\\lib\\site-packages\\tensorflow\\python\\keras\\engine\\sequential.py:455: UserWarning: `model.predict_classes()` is deprecated and will be removed after 2021-01-01. Please use instead:* `np.argmax(model.predict(x), axis=-1)`,   if your model does multi-class classification   (e.g. if it uses a `softmax` last-layer activation).* `(model.predict(x) > 0.5).astype(\"int32\")`,   if your model does binary classification   (e.g. if it uses a `sigmoid` last-layer activation).\n",
      "  warnings.warn('`model.predict_classes()` is deprecated and '\n",
      "C:\\Users\\ejtuc\\anaconda3_1\\lib\\site-packages\\tensorflow\\python\\keras\\engine\\sequential.py:455: UserWarning: `model.predict_classes()` is deprecated and will be removed after 2021-01-01. Please use instead:* `np.argmax(model.predict(x), axis=-1)`,   if your model does multi-class classification   (e.g. if it uses a `softmax` last-layer activation).* `(model.predict(x) > 0.5).astype(\"int32\")`,   if your model does binary classification   (e.g. if it uses a `sigmoid` last-layer activation).\n",
      "  warnings.warn('`model.predict_classes()` is deprecated and '\n",
      "C:\\Users\\ejtuc\\anaconda3_1\\lib\\site-packages\\tensorflow\\python\\keras\\engine\\sequential.py:455: UserWarning: `model.predict_classes()` is deprecated and will be removed after 2021-01-01. Please use instead:* `np.argmax(model.predict(x), axis=-1)`,   if your model does multi-class classification   (e.g. if it uses a `softmax` last-layer activation).* `(model.predict(x) > 0.5).astype(\"int32\")`,   if your model does binary classification   (e.g. if it uses a `sigmoid` last-layer activation).\n",
      "  warnings.warn('`model.predict_classes()` is deprecated and '\n",
      "C:\\Users\\ejtuc\\anaconda3_1\\lib\\site-packages\\tensorflow\\python\\keras\\engine\\sequential.py:455: UserWarning: `model.predict_classes()` is deprecated and will be removed after 2021-01-01. Please use instead:* `np.argmax(model.predict(x), axis=-1)`,   if your model does multi-class classification   (e.g. if it uses a `softmax` last-layer activation).* `(model.predict(x) > 0.5).astype(\"int32\")`,   if your model does binary classification   (e.g. if it uses a `sigmoid` last-layer activation).\n",
      "  warnings.warn('`model.predict_classes()` is deprecated and '\n"
     ]
    },
    {
     "name": "stdout",
     "output_type": "stream",
     "text": [
      "Best score: 0.5412\n",
      "Best parameters: {'units_layer2': 48, 'units_layer1': 32, 'learning_rate': 0.001, 'dropout_rate': 0.30000000000000004}\n"
     ]
    }
   ],
   "source": [
    "import pandas as pd\n",
    "import numpy as np\n",
    "from sklearn.model_selection import train_test_split\n",
    "from sklearn.preprocessing import LabelEncoder, StandardScaler\n",
    "import tensorflow as tf\n",
    "from sklearn.model_selection import RandomizedSearchCV\n",
    "from tensorflow import keras\n",
    "from tensorflow.keras import layers\n",
    "from tensorflow.keras.wrappers.scikit_learn import KerasClassifier\n",
    "\n",
    "df = pd.read_csv('original_data2.csv')\n",
    "\n",
    "# Encode categorical variables to numerical values\n",
    "label_encoder = LabelEncoder()\n",
    "categorical_cols = ['Cryoprotectant_Type', 'Lypoprotectant_Type', 'Buffer_Type', 'BulkingAgent_Type', 'Preservative_Type', 'Lethality']\n",
    "\n",
    "for col in categorical_cols:\n",
    "    df[col] = label_encoder.fit_transform(df[col])\n",
    "\n",
    "# Split the data into features (X) and target (y)\n",
    "X = df.drop(columns=['Lethality'])\n",
    "y = df['Lethality']\n",
    "\n",
    "# Normalize the numerical variables to have zero mean and unit variance\n",
    "scaler = StandardScaler()\n",
    "numerical_cols = ['Vector_Concentration', 'Cryoprotectant_Concentration', 'Lypoprotectant_Concentration', 'Buffer_pH', 'Buffer_Concentration', 'Preservative_Concentration']\n",
    "X[numerical_cols] = scaler.fit_transform(X[numerical_cols])\n",
    "\n",
    "# Split the data into training and testing sets (80% train, 20% test)\n",
    "X_train, X_test, y_train, y_test = train_test_split(X, y, test_size=0.2, random_state=42)\n",
    "\n",
    "import numpy as np\n",
    "from sklearn.model_selection import RandomizedSearchCV\n",
    "from tensorflow.keras.wrappers.scikit_learn import KerasClassifier\n",
    "\n",
    "# Define a function to create the neural network model\n",
    "def create_model(units_layer1=64, units_layer2=32, dropout_rate=0.2, learning_rate=0.001):\n",
    "    model = keras.Sequential([\n",
    "        layers.Dense(units_layer1, activation='relu', input_shape=(X_train.shape[1],)),\n",
    "        layers.Dropout(dropout_rate),\n",
    "        layers.Dense(units_layer2, activation='relu'),\n",
    "        layers.Dense(1, activation='sigmoid')\n",
    "    ])\n",
    "\n",
    "    # Compile the model with the given learning rate\n",
    "    optimizer = keras.optimizers.Adam(learning_rate=learning_rate)\n",
    "    model.compile(optimizer=optimizer, loss='binary_crossentropy', metrics=['accuracy'])\n",
    "\n",
    "    return model\n",
    "\n",
    "# Create a KerasClassifier wrapper for the create_model function\n",
    "model_wrapper = KerasClassifier(build_fn=create_model, epochs=100, batch_size=32, verbose=0)\n",
    "\n",
    "# Define the hyperparameter search space\n",
    "param_dist = {\n",
    "    'units_layer1': np.arange(32, 128, 8),\n",
    "    'units_layer2': np.arange(16, 64, 8),\n",
    "    'dropout_rate': np.arange(0.1, 0.5, 0.1),\n",
    "    'learning_rate': [0.001, 0.01, 0.1]\n",
    "}\n",
    "\n",
    "# Perform random search with cross-validation\n",
    "random_search = RandomizedSearchCV(model_wrapper, param_distributions=param_dist, cv=3, n_iter=10, scoring='accuracy', verbose=1)\n",
    "random_search.fit(X_train, y_train)\n",
    "\n",
    "# Get the best model and its score\n",
    "best_model = random_search.best_estimator_\n",
    "best_score = random_search.best_score_\n",
    "\n",
    "print(f\"Best score: {best_score:.4f}\")\n",
    "print(f\"Best parameters: {random_search.best_params_}\")\n"
   ]
  }
 ],
 "metadata": {
  "kernelspec": {
   "display_name": "Python 3",
   "language": "python",
   "name": "python3"
  },
  "language_info": {
   "codemirror_mode": {
    "name": "ipython",
    "version": 3
   },
   "file_extension": ".py",
   "mimetype": "text/x-python",
   "name": "python",
   "nbconvert_exporter": "python",
   "pygments_lexer": "ipython3",
   "version": "3.8.8"
  }
 },
 "nbformat": 4,
 "nbformat_minor": 5
}
